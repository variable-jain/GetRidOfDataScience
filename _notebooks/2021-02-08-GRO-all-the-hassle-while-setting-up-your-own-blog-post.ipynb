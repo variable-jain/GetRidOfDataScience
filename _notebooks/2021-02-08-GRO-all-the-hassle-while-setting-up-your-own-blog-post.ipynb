{
 "cells": [
  {
   "cell_type": "markdown",
   "metadata": {},
   "source": [
    "<!-- # **G**ET **R**ID **O**F all the hassel while setting up your own blog post\n",
    "> How to get your blog website up and about in less than 30 minutes\n",
    "\n",
    "- toc: true\n",
    "- branch: true\n",
    "- comments: true\n",
    "- author: Varun Jain\n",
    "- categories: [miscellaneous, getting-started] -->\n",
    "# Fastpages Notebook Blog Post\n",
    "> A tutorial of fastpages for Jupyter notebooks.\n",
    "\n",
    "- toc: true \n",
    "- badges: true\n",
    "- comments: true\n",
    "- categories: [jupyter]"
   ]
  },
  {
   "cell_type": "markdown",
   "metadata": {},
   "source": [
    "## Setting up fastpages"
   ]
  },
  {
   "cell_type": "markdown",
   "metadata": {},
   "source": [
    "We will use fastai's `fastpages` to create our blog post.\n",
    "\n",
    "Fastpages use `ipython notebooks`, `markdown files` and even `word documents` to convert the content into Jekyll blog posts and host it using Github pages. The setup took me 2-3 hours of searching and reading long documentations to get my blog post up and running. This blog can help you to do the same work in a few minutes.\n",
    "\n",
    "Lets get started!!"
   ]
  },
  {
   "cell_type": "markdown",
   "metadata": {},
   "source": [
    "### Creating the github repository\n",
    "> Most of this is found at the [github repository](https://github.com/fastai/fastpages) of fastpages, if you don't mind going through a long and complex github readme"
   ]
  },
  {
   "cell_type": "markdown",
   "metadata": {},
   "source": [
    "#### Step 1: Clone the github repository of fastpages"
   ]
  },
  {
   "cell_type": "markdown",
   "metadata": {},
   "source": [
    "Visit this [link](https://github.com/fastai/fastpages/generate) and fill the name of your blog post as the repository name. You need a github account to do this, so if you haven't created one - this is a good time to do that. Create your repository."
   ]
  },
  {
   "cell_type": "markdown",
   "metadata": {},
   "source": []
  }
 ],
 "metadata": {
  "kernelspec": {
   "display_name": "Python 3",
   "language": "python",
   "name": "python3"
  },
  "language_info": {
   "codemirror_mode": {
    "name": "ipython",
    "version": 3
   },
   "file_extension": ".py",
   "mimetype": "text/x-python",
   "name": "python",
   "nbconvert_exporter": "python",
   "pygments_lexer": "ipython3",
   "version": "3.8.2"
  }
 },
 "nbformat": 4,
 "nbformat_minor": 4
}
