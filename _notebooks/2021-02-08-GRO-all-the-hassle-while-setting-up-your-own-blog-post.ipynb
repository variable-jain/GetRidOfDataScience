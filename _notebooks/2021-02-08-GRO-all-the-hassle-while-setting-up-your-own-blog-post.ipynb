{
 "cells": [
  {
   "cell_type": "markdown",
   "metadata": {},
   "source": [
    "# GET RID OF all the hassel while setting up your own blog post\n",
    "> How to get your blog website up and about in less than 30 minutes\n",
    "\n",
    "- toc: true \n",
    "- badges: true\n",
    "- comments: true\n",
    "- author: Varun Jain\n",
    "- categories: [miscellaneous, getting-started]"
   ]
  },
  {
   "cell_type": "markdown",
   "metadata": {},
   "source": [
    "## Setting up fastpages"
   ]
  },
  {
   "cell_type": "markdown",
   "metadata": {},
   "source": [
    "We will use fastai's `fastpages` to create our blog post.\n",
    "\n",
    "Fastpages use `ipython notebooks`, `markdown files` and even `word documents` to convert the content into Jekyll blog posts and host it using Github pages. The setup took me 2-3 hours of searching and reading long documentations to get my blog post up and running. This blog can help you to do the same work in a few minutes.\n",
    "\n",
    "Lets get started!!"
   ]
  },
  {
   "cell_type": "markdown",
   "metadata": {},
   "source": [
    "> Most of this is found at the [github repository](https://github.com/fastai/fastpages) of fastpages, if you don't mind going through a long and complex github readme"
   ]
  },
  {
   "cell_type": "markdown",
   "metadata": {},
   "source": [
    "### Step 1: Clone the github repository of fastpages"
   ]
  },
  {
   "cell_type": "markdown",
   "metadata": {},
   "source": [
    "Visit this [link](https://github.com/fastai/fastpages/generate) and fill the name of your blog post as the repository name. You need a github account to do this, so if you haven't created one - this is a good time to do that. Create your repository."
   ]
  },
  {
   "cell_type": "markdown",
   "metadata": {},
   "source": [
    "> Tip: Choose a name that you want to stick up with. Because changing the name afterwards is a hassle and you might not want to do that"
   ]
  },
  {
   "cell_type": "markdown",
   "metadata": {},
   "source": [
    "![](../images/GOR1/1.png)"
   ]
  },
  {
   "cell_type": "markdown",
   "metadata": {},
   "source": [
    "### Step 2: Pull request"
   ]
  },
  {
   "cell_type": "markdown",
   "metadata": {},
   "source": [
    "After a minute of creating a repository, you'll see a pull request for your repository, go to it and follow the instructions it has for completing the setup."
   ]
  },
  {
   "cell_type": "markdown",
   "metadata": {},
   "source": [
    "![](../images/GOR1/2.png)"
   ]
  },
  {
   "cell_type": "markdown",
   "metadata": {},
   "source": [
    "You need to perform these three steps, as mentioned in the pull request:\n",
    "1. Create an `SSH key`.\n",
    "2. Add an `Actions Secret` using the private key of RSA.\n",
    "3. Create a `Deploy Key` using the public key of the RSA."
   ]
  },
  {
   "cell_type": "markdown",
   "metadata": {},
   "source": [
    "### Step3: Merge pull request "
   ]
  },
  {
   "cell_type": "markdown",
   "metadata": {},
   "source": [
    "As soon as you do these steps, merge your pull request (you can see the option by scrolling down the pull request)."
   ]
  },
  {
   "cell_type": "markdown",
   "metadata": {},
   "source": [
    "![](../images/GOR1/3.png)"
   ]
  },
  {
   "cell_type": "markdown",
   "metadata": {},
   "source": [
    "Wait for a couple of minutes for the pull request to merge and the backend actions running. You can track the same in the actions tab of your repository."
   ]
  },
  {
   "cell_type": "markdown",
   "metadata": {},
   "source": [
    "**And its Done**.\n",
    "\n",
    "You now have your blogpost up and running. You can find the web address in the readme of the repository, or alternatively, the address is https://your-github-username.github.io/your-blog-post-name"
   ]
  },
  {
   "cell_type": "markdown",
   "metadata": {},
   "source": [
    "## Personalize your blog post"
   ]
  },
  {
   "cell_type": "markdown",
   "metadata": {},
   "source": [
    "The homepage of your blog post now is ready, but its missing a certain charm. For instance, these are some issues that bothered me:\n",
    "* The tab title shows fastpages. I would like it to be the name of my blog post(and certianly anything else as you wish)\n",
    "* The about section of the blog post needs to be personalized containing information about who I am.\n",
    "* The home page has information about fastpages and it should be more about the blog post itself.\n",
    "* The icon appearing at the tab bar is of fastai. I would like to change it too.\n",
    "* The name fastpages at the top-left of the page\n",
    "* and many more....\n",
    "\n",
    "lets dive into and change these things one by one. You might need a little html and markdown knowledge to go ahead but its something you can catch up right away."
   ]
  },
  {
   "cell_type": "markdown",
   "metadata": {},
   "source": [
    "### Tab title"
   ]
  },
  {
   "cell_type": "markdown",
   "metadata": {},
   "source": [
    "Go ahead to the repository home and navigate to `_config.yml` file in the repo. Click the little pencil icon at the right top of the file to edit it.\n",
    "\n",
    "Change the `title` field of the file to your Blog post name. Add the `description` to if you want. Notice that this also changes the name appearing at the top left of each page too."
   ]
  },
  {
   "cell_type": "markdown",
   "metadata": {},
   "source": [
    "![](../images/GOR1/4.png)"
   ]
  },
  {
   "cell_type": "markdown",
   "metadata": {},
   "source": [
    "Scroll down the change the twitter and github social_links to your respective ones. Change settings `use_math`, `show_description` etc. as per your preferences. What they do is mentioned in the comments alongside."
   ]
  },
  {
   "cell_type": "markdown",
   "metadata": {},
   "source": [
    "Commit the changes and wait for 2-3 minutes for these changes to be visible in the website"
   ]
  },
  {
   "cell_type": "markdown",
   "metadata": {},
   "source": [
    "### About section"
   ]
  },
  {
   "cell_type": "markdown",
   "metadata": {},
   "source": [
    "Move to the `_pages/about.md`. This file changes the about section of the blog post. This is a markdown file. Edit accordingly."
   ]
  },
  {
   "cell_type": "markdown",
   "metadata": {},
   "source": [
    "![](../images/GOR1/5.png)"
   ]
  },
  {
   "cell_type": "markdown",
   "metadata": {},
   "source": [
    "### Adding the icon in the tab bar"
   ]
  },
  {
   "cell_type": "markdown",
   "metadata": {},
   "source": [
    "Upload your icon image to the `images/` folder.\n",
    "\n",
    "Delete the file named `favicon.ico`. Rename your uploaded image to favicon.ico and you'll see the changes after you commit the edits."
   ]
  },
  {
   "cell_type": "markdown",
   "metadata": {},
   "source": [
    "### Change the home page"
   ]
  },
  {
   "cell_type": "markdown",
   "metadata": {},
   "source": [
    "This is essentially html and you can customize it depending on how proficient with the language. However, removing the fastpage images and editing one or two lines is plently for the time being. "
   ]
  },
  {
   "cell_type": "markdown",
   "metadata": {},
   "source": [
    "## Other relevant changes"
   ]
  },
  {
   "cell_type": "markdown",
   "metadata": {},
   "source": [
    "By now, the blog post is all ready waiting for you to write about your data science journey. \n",
    "\n",
    "**Congratulations**\n",
    "\n",
    "However you can further edit and personalize the website. You can follow the [fastpages github repository](https://github.com/fastai/fastpages) to further personalization and howto's on writing your blog articles in your preffered mode."
   ]
  }
 ],
 "metadata": {
  "kernelspec": {
   "display_name": "Python 3",
   "language": "python",
   "name": "python3"
  },
  "language_info": {
   "codemirror_mode": {
    "name": "ipython",
    "version": 3
   },
   "file_extension": ".py",
   "mimetype": "text/x-python",
   "name": "python",
   "nbconvert_exporter": "python",
   "pygments_lexer": "ipython3",
   "version": "3.8.2"
  }
 },
 "nbformat": 4,
 "nbformat_minor": 4
}
